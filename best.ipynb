{
 "cells": [
  {
   "cell_type": "code",
   "execution_count": 31,
   "metadata": {
    "ExecuteTime": {
     "end_time": "2019-07-07T13:53:50.860112Z",
     "start_time": "2019-07-07T13:53:50.851084Z"
    }
   },
   "outputs": [],
   "source": [
    "import warnings\n",
    "warnings.filterwarnings(\"ignore\")\n",
    "import pandas as pd\n",
    "import numpy as np\n",
    "from sklearn.preprocessing import LabelEncoder\n",
    "from sklearn.preprocessing import StandardScaler\n",
    "from sklearn.model_selection import train_test_split\n",
    "from sklearn.model_selection import StratifiedKFold\n",
    "from sklearn.metrics import roc_auc_score\n",
    "import sklearn.preprocessing as preprocessing\n",
    "import lightgbm as lgb\n",
    "import seaborn as sns\n",
    "import matplotlib.pyplot as plt\n",
    "%matplotlib inline"
   ]
  },
  {
   "cell_type": "code",
   "execution_count": 32,
   "metadata": {
    "ExecuteTime": {
     "end_time": "2019-07-07T13:53:51.304842Z",
     "start_time": "2019-07-07T13:53:51.190756Z"
    }
   },
   "outputs": [],
   "source": [
    "train = pd.read_csv('train_set.csv')\n",
    "test = pd.read_csv('test_set.csv')\n",
    "data = pd.concat([train, test])"
   ]
  },
  {
   "cell_type": "code",
   "execution_count": 33,
   "metadata": {
    "ExecuteTime": {
     "end_time": "2019-07-07T13:53:51.568687Z",
     "start_time": "2019-07-07T13:53:51.561792Z"
    }
   },
   "outputs": [
    {
     "name": "stdout",
     "output_type": "stream",
     "text": [
      "['job', 'marital', 'education', 'default', 'housing', 'loan', 'contact', 'month', 'poutcome']\n",
      "['duration', 'pdays', 'balance', 'day', 'age', 'previous', 'campaign']\n"
     ]
    }
   ],
   "source": [
    "feature = train.columns.tolist()\n",
    "feature.remove('ID')\n",
    "feature.remove('y')\n",
    "object_columns = train.columns[train.dtypes == 'object'].tolist()\n",
    "num_columns = list(set(feature) - set(object_columns))\n",
    "print (object_columns)\n",
    "print (num_columns)"
   ]
  },
  {
   "cell_type": "code",
   "execution_count": 34,
   "metadata": {
    "ExecuteTime": {
     "end_time": "2019-07-07T13:53:52.002231Z",
     "start_time": "2019-07-07T13:53:51.959459Z"
    }
   },
   "outputs": [
    {
     "data": {
      "text/html": [
       "<div>\n",
       "<style scoped>\n",
       "    .dataframe tbody tr th:only-of-type {\n",
       "        vertical-align: middle;\n",
       "    }\n",
       "\n",
       "    .dataframe tbody tr th {\n",
       "        vertical-align: top;\n",
       "    }\n",
       "\n",
       "    .dataframe thead th {\n",
       "        text-align: right;\n",
       "    }\n",
       "</style>\n",
       "<table border=\"1\" class=\"dataframe\">\n",
       "  <thead>\n",
       "    <tr style=\"text-align: right;\">\n",
       "      <th></th>\n",
       "      <th>duration</th>\n",
       "      <th>pdays</th>\n",
       "      <th>balance</th>\n",
       "      <th>day</th>\n",
       "      <th>age</th>\n",
       "      <th>previous</th>\n",
       "      <th>campaign</th>\n",
       "    </tr>\n",
       "  </thead>\n",
       "  <tbody>\n",
       "    <tr>\n",
       "      <th>count</th>\n",
       "      <td>25317.000000</td>\n",
       "      <td>25317.000000</td>\n",
       "      <td>25317.000000</td>\n",
       "      <td>25317.000000</td>\n",
       "      <td>25317.000000</td>\n",
       "      <td>25317.000000</td>\n",
       "      <td>25317.000000</td>\n",
       "    </tr>\n",
       "    <tr>\n",
       "      <th>mean</th>\n",
       "      <td>257.732393</td>\n",
       "      <td>40.248766</td>\n",
       "      <td>1357.555082</td>\n",
       "      <td>15.835289</td>\n",
       "      <td>40.935379</td>\n",
       "      <td>0.591737</td>\n",
       "      <td>2.772050</td>\n",
       "    </tr>\n",
       "    <tr>\n",
       "      <th>std</th>\n",
       "      <td>256.975151</td>\n",
       "      <td>100.213541</td>\n",
       "      <td>2999.822811</td>\n",
       "      <td>8.319480</td>\n",
       "      <td>10.634289</td>\n",
       "      <td>2.568313</td>\n",
       "      <td>3.136097</td>\n",
       "    </tr>\n",
       "    <tr>\n",
       "      <th>min</th>\n",
       "      <td>0.000000</td>\n",
       "      <td>-1.000000</td>\n",
       "      <td>-8019.000000</td>\n",
       "      <td>1.000000</td>\n",
       "      <td>18.000000</td>\n",
       "      <td>0.000000</td>\n",
       "      <td>1.000000</td>\n",
       "    </tr>\n",
       "    <tr>\n",
       "      <th>25%</th>\n",
       "      <td>103.000000</td>\n",
       "      <td>-1.000000</td>\n",
       "      <td>73.000000</td>\n",
       "      <td>8.000000</td>\n",
       "      <td>33.000000</td>\n",
       "      <td>0.000000</td>\n",
       "      <td>1.000000</td>\n",
       "    </tr>\n",
       "    <tr>\n",
       "      <th>50%</th>\n",
       "      <td>181.000000</td>\n",
       "      <td>-1.000000</td>\n",
       "      <td>448.000000</td>\n",
       "      <td>16.000000</td>\n",
       "      <td>39.000000</td>\n",
       "      <td>0.000000</td>\n",
       "      <td>2.000000</td>\n",
       "    </tr>\n",
       "    <tr>\n",
       "      <th>75%</th>\n",
       "      <td>317.000000</td>\n",
       "      <td>-1.000000</td>\n",
       "      <td>1435.000000</td>\n",
       "      <td>21.000000</td>\n",
       "      <td>48.000000</td>\n",
       "      <td>0.000000</td>\n",
       "      <td>3.000000</td>\n",
       "    </tr>\n",
       "    <tr>\n",
       "      <th>max</th>\n",
       "      <td>3881.000000</td>\n",
       "      <td>854.000000</td>\n",
       "      <td>102127.000000</td>\n",
       "      <td>31.000000</td>\n",
       "      <td>95.000000</td>\n",
       "      <td>275.000000</td>\n",
       "      <td>55.000000</td>\n",
       "    </tr>\n",
       "  </tbody>\n",
       "</table>\n",
       "</div>"
      ],
      "text/plain": [
       "           duration         pdays        balance           day           age  \\\n",
       "count  25317.000000  25317.000000   25317.000000  25317.000000  25317.000000   \n",
       "mean     257.732393     40.248766    1357.555082     15.835289     40.935379   \n",
       "std      256.975151    100.213541    2999.822811      8.319480     10.634289   \n",
       "min        0.000000     -1.000000   -8019.000000      1.000000     18.000000   \n",
       "25%      103.000000     -1.000000      73.000000      8.000000     33.000000   \n",
       "50%      181.000000     -1.000000     448.000000     16.000000     39.000000   \n",
       "75%      317.000000     -1.000000    1435.000000     21.000000     48.000000   \n",
       "max     3881.000000    854.000000  102127.000000     31.000000     95.000000   \n",
       "\n",
       "           previous      campaign  \n",
       "count  25317.000000  25317.000000  \n",
       "mean       0.591737      2.772050  \n",
       "std        2.568313      3.136097  \n",
       "min        0.000000      1.000000  \n",
       "25%        0.000000      1.000000  \n",
       "50%        0.000000      2.000000  \n",
       "75%        0.000000      3.000000  \n",
       "max      275.000000     55.000000  "
      ]
     },
     "execution_count": 34,
     "metadata": {},
     "output_type": "execute_result"
    }
   ],
   "source": [
    "train[num_columns].describe()"
   ]
  },
  {
   "cell_type": "code",
   "execution_count": 35,
   "metadata": {
    "ExecuteTime": {
     "end_time": "2019-07-07T13:53:52.592986Z",
     "start_time": "2019-07-07T13:53:52.524007Z"
    }
   },
   "outputs": [],
   "source": [
    "data[\"month\"] = data[\"month\"].map({\"jan\": 1, \"feb\": 2, 'mar': 3, 'apr': 4, \n",
    "                                   'may': 5, 'jun': 6, 'jul': 7, 'aug': 8,\n",
    "                                   'sep': 9, 'oct': 10, 'nov': 11, 'dec': 12})\n",
    "data['quater_of_year'] = data['month'].apply(lambda x : x//4)  # 季度\n",
    "data['quater_of_month'] = data['day'].apply(lambda x : x//7)  # 周\n",
    "data['balance_positive'] = data['balance'].apply(lambda x : 0 if x < 0 else 1) # 是否有存款\n",
    "data['month_mul_day'] = data['month'] * 30 + data['day']\n",
    "data['age_mod_30'] = data['age'].apply(lambda x : x//30)"
   ]
  },
  {
   "cell_type": "code",
   "execution_count": 36,
   "metadata": {
    "ExecuteTime": {
     "end_time": "2019-07-07T13:53:53.883160Z",
     "start_time": "2019-07-07T13:53:53.878758Z"
    }
   },
   "outputs": [],
   "source": [
    "def feature_count(data, features):\n",
    "    feature_name = 'count'\n",
    "    for i in features:\n",
    "        feature_name += '_' + i\n",
    "    temp = data.groupby(features).size().reset_index().rename(columns={0: feature_name})\n",
    "    data = data.merge(temp, 'left', on=features)\n",
    "    return data,feature_name"
   ]
  },
  {
   "cell_type": "code",
   "execution_count": 37,
   "metadata": {
    "ExecuteTime": {
     "end_time": "2019-07-07T13:53:54.664302Z",
     "start_time": "2019-07-07T13:53:54.233106Z"
    }
   },
   "outputs": [],
   "source": [
    "# 日期交叉统计特征\n",
    "date_columns = ['campaign'] + ['job', 'marital', 'education', 'default', 'housing', 'loan', 'contact', 'poutcome']\n",
    "for f in date_columns:\n",
    "    data, _ = feature_count(data, ['day','month', f])"
   ]
  },
  {
   "cell_type": "code",
   "execution_count": 38,
   "metadata": {
    "ExecuteTime": {
     "end_time": "2019-07-07T13:54:00.104805Z",
     "start_time": "2019-07-07T13:54:00.099817Z"
    }
   },
   "outputs": [],
   "source": [
    "def get_new_columns(name, aggs):\n",
    "    l = []\n",
    "    for k in aggs.keys():\n",
    "        for agg in aggs[k]:\n",
    "            if str(type(agg)) == \"<class 'function'>\":\n",
    "                l.append(name + '_' + k + '_' + 'other')\n",
    "            else:\n",
    "                l.append(name + '_' + k + '_' + agg)\n",
    "    return l"
   ]
  },
  {
   "cell_type": "code",
   "execution_count": 9,
   "metadata": {},
   "outputs": [],
   "source": [
    "# for feature in object_columns:\n",
    "#     print(\"feature:{}\".format(feature))\n",
    "#     print(data[feature].value_counts())"
   ]
  },
  {
   "cell_type": "code",
   "execution_count": 39,
   "metadata": {
    "ExecuteTime": {
     "end_time": "2019-07-07T13:55:53.450056Z",
     "start_time": "2019-07-07T13:55:52.822043Z"
    }
   },
   "outputs": [],
   "source": [
    "# 客户的统计特征\n",
    "# 分组统计f_a的f_b 数值，并作为新特征\n",
    "f_a = ['job', 'marital', 'education']\n",
    "f_b = ['balance', 'duration']\n",
    "\n",
    "aggs = {}\n",
    "for b in f_b:\n",
    "    aggs[b] = ['mean','max','min','std']\n",
    "    \n",
    "for a in f_a:\n",
    "    for b in f_b:\n",
    "        tmp = data.groupby(a, as_index=False).agg(aggs)\n",
    "        tmp.columns = [a] + get_new_columns(a, aggs)\n",
    "        data = pd.merge(data, tmp, on=a, how='left')"
   ]
  },
  {
   "cell_type": "code",
   "execution_count": 42,
   "metadata": {
    "ExecuteTime": {
     "end_time": "2019-07-07T13:59:39.007534Z",
     "start_time": "2019-07-07T13:59:38.946907Z"
    }
   },
   "outputs": [],
   "source": [
    "le = preprocessing.LabelEncoder()\n",
    "for label in ['job', 'marital', 'education', 'default', 'housing', 'loan', 'contact', 'poutcome']:\n",
    "    le.fit(data[label])\n",
    "    data[label] = le.transform(data[label])"
   ]
  },
  {
   "cell_type": "code",
   "execution_count": 43,
   "metadata": {
    "ExecuteTime": {
     "end_time": "2019-07-07T13:59:49.941945Z",
     "start_time": "2019-07-07T13:59:49.772413Z"
    }
   },
   "outputs": [
    {
     "data": {
      "text/plain": [
       "['job',\n",
       " 'marital',\n",
       " 'education',\n",
       " 'default',\n",
       " 'housing',\n",
       " 'loan',\n",
       " 'contact',\n",
       " 'month',\n",
       " 'poutcome',\n",
       " 'quater_of_month',\n",
       " 'age_mod_30']"
      ]
     },
     "execution_count": 43,
     "metadata": {},
     "output_type": "execute_result"
    }
   ],
   "source": [
    "X_train = data[data['y'].notnull()]\n",
    "Y_train = X_train['y']\n",
    "X_test = data[data['y'].isnull()]\n",
    "\n",
    "X_train.drop(['ID', 'y'], axis=1, inplace=True)\n",
    "X_test.drop(['y'], axis=1, inplace=True)\n",
    "\n",
    "feature_names = X_train.columns.tolist()\n",
    "# categorical_feature加哪些？测出来的\n",
    "categorical_feature = object_columns + ['quater_of_month', 'age_mod_30']\n",
    "categorical_feature"
   ]
  },
  {
   "cell_type": "code",
   "execution_count": 44,
   "metadata": {
    "ExecuteTime": {
     "end_time": "2019-07-07T14:03:21.373555Z",
     "start_time": "2019-07-07T14:02:23.688817Z"
    }
   },
   "outputs": [
    {
     "name": "stdout",
     "output_type": "stream",
     "text": [
      "Training until validation scores don't improve for 100 rounds.\n",
      "[100]\tvalid_0's auc: 0.936094\n",
      "[200]\tvalid_0's auc: 0.938379\n",
      "[300]\tvalid_0's auc: 0.939353\n",
      "[400]\tvalid_0's auc: 0.940538\n",
      "[500]\tvalid_0's auc: 0.941117\n",
      "[600]\tvalid_0's auc: 0.941672\n",
      "[700]\tvalid_0's auc: 0.941799\n",
      "[800]\tvalid_0's auc: 0.941817\n",
      "Early stopping, best iteration is:\n",
      "[767]\tvalid_0's auc: 0.942028\n",
      "Training until validation scores don't improve for 100 rounds.\n",
      "[100]\tvalid_0's auc: 0.945073\n",
      "[200]\tvalid_0's auc: 0.947756\n",
      "[300]\tvalid_0's auc: 0.948143\n",
      "[400]\tvalid_0's auc: 0.949383\n",
      "[500]\tvalid_0's auc: 0.949826\n",
      "[600]\tvalid_0's auc: 0.950095\n",
      "[700]\tvalid_0's auc: 0.950172\n",
      "[800]\tvalid_0's auc: 0.949911\n",
      "Early stopping, best iteration is:\n",
      "[701]\tvalid_0's auc: 0.950208\n",
      "Training until validation scores don't improve for 100 rounds.\n",
      "[100]\tvalid_0's auc: 0.946822\n",
      "[200]\tvalid_0's auc: 0.9479\n",
      "[300]\tvalid_0's auc: 0.948989\n",
      "[400]\tvalid_0's auc: 0.949799\n",
      "[500]\tvalid_0's auc: 0.950341\n",
      "[600]\tvalid_0's auc: 0.950781\n",
      "[700]\tvalid_0's auc: 0.950791\n",
      "Early stopping, best iteration is:\n",
      "[642]\tvalid_0's auc: 0.950932\n",
      "Training until validation scores don't improve for 100 rounds.\n",
      "[100]\tvalid_0's auc: 0.92722\n",
      "[200]\tvalid_0's auc: 0.930399\n",
      "[300]\tvalid_0's auc: 0.931668\n",
      "[400]\tvalid_0's auc: 0.931929\n",
      "Early stopping, best iteration is:\n",
      "[393]\tvalid_0's auc: 0.931966\n",
      "Training until validation scores don't improve for 100 rounds.\n",
      "[100]\tvalid_0's auc: 0.929534\n",
      "[200]\tvalid_0's auc: 0.932058\n",
      "[300]\tvalid_0's auc: 0.933334\n",
      "[400]\tvalid_0's auc: 0.935105\n",
      "[500]\tvalid_0's auc: 0.935988\n",
      "[600]\tvalid_0's auc: 0.936639\n",
      "[700]\tvalid_0's auc: 0.937048\n",
      "[800]\tvalid_0's auc: 0.937137\n",
      "Early stopping, best iteration is:\n",
      "[726]\tvalid_0's auc: 0.937234\n",
      "Training until validation scores don't improve for 100 rounds.\n",
      "[100]\tvalid_0's auc: 0.939148\n",
      "[200]\tvalid_0's auc: 0.941196\n",
      "[300]\tvalid_0's auc: 0.942533\n",
      "[400]\tvalid_0's auc: 0.942901\n",
      "[500]\tvalid_0's auc: 0.943125\n",
      "[600]\tvalid_0's auc: 0.943293\n",
      "[700]\tvalid_0's auc: 0.943328\n",
      "Early stopping, best iteration is:\n",
      "[645]\tvalid_0's auc: 0.943403\n",
      "Training until validation scores don't improve for 100 rounds.\n",
      "[100]\tvalid_0's auc: 0.933299\n",
      "[200]\tvalid_0's auc: 0.936925\n",
      "[300]\tvalid_0's auc: 0.938607\n",
      "[400]\tvalid_0's auc: 0.939699\n",
      "[500]\tvalid_0's auc: 0.939679\n",
      "Early stopping, best iteration is:\n",
      "[422]\tvalid_0's auc: 0.939803\n",
      "Training until validation scores don't improve for 100 rounds.\n",
      "[100]\tvalid_0's auc: 0.93833\n",
      "[200]\tvalid_0's auc: 0.940958\n",
      "[300]\tvalid_0's auc: 0.941177\n",
      "[400]\tvalid_0's auc: 0.941792\n",
      "[500]\tvalid_0's auc: 0.942299\n",
      "[600]\tvalid_0's auc: 0.942713\n",
      "[700]\tvalid_0's auc: 0.94311\n",
      "[800]\tvalid_0's auc: 0.943425\n",
      "[900]\tvalid_0's auc: 0.943464\n",
      "Early stopping, best iteration is:\n",
      "[875]\tvalid_0's auc: 0.94358\n",
      "Training until validation scores don't improve for 100 rounds.\n",
      "[100]\tvalid_0's auc: 0.929161\n",
      "[200]\tvalid_0's auc: 0.933051\n",
      "[300]\tvalid_0's auc: 0.934724\n",
      "[400]\tvalid_0's auc: 0.935187\n",
      "[500]\tvalid_0's auc: 0.936217\n",
      "[600]\tvalid_0's auc: 0.936801\n",
      "[700]\tvalid_0's auc: 0.93687\n",
      "[800]\tvalid_0's auc: 0.937298\n",
      "[900]\tvalid_0's auc: 0.93748\n",
      "[1000]\tvalid_0's auc: 0.937443\n",
      "Early stopping, best iteration is:\n",
      "[947]\tvalid_0's auc: 0.937591\n",
      "Training until validation scores don't improve for 100 rounds.\n",
      "[100]\tvalid_0's auc: 0.935819\n",
      "[200]\tvalid_0's auc: 0.939154\n",
      "[300]\tvalid_0's auc: 0.941667\n",
      "[400]\tvalid_0's auc: 0.94202\n",
      "[500]\tvalid_0's auc: 0.942373\n",
      "Early stopping, best iteration is:\n",
      "[489]\tvalid_0's auc: 0.942436\n"
     ]
    }
   ],
   "source": [
    "# 划分数据集 验证集\n",
    "param = {'num_leaves': 31,\n",
    "         'min_data_in_leaf': 30, \n",
    "         'objective':'binary',\n",
    "         'max_depth': -1,\n",
    "         'learning_rate': 0.01,\n",
    "         \"min_child_samples\": 20,\n",
    "         \"boosting\": \"gbdt\",\n",
    "         \"feature_fraction\": 0.9,\n",
    "         \"bagging_freq\": 1,\n",
    "         \"bagging_fraction\": 0.9 ,\n",
    "         \"bagging_seed\": 11,\n",
    "         \"metric\": 'auc',\n",
    "         \"lambda_l1\": 0.1,\n",
    "         \"verbosity\": -1,\n",
    "         \"nthread\": 12,\n",
    "         \"random_state\": 42\n",
    "}\n",
    "\n",
    "all_preds = []\n",
    "# all_auc = []\n",
    "# feature_names = useful_feature\n",
    "folds = StratifiedKFold(n_splits=10, shuffle=True, random_state=42)\n",
    "splits = folds.split(X_train[feature_names], Y_train)\n",
    "\n",
    "x_train = X_train[feature_names].values\n",
    "y_train = Y_train.values\n",
    "\n",
    "train_pred = np.zeros(len(x_train))\n",
    "feature_importance_df = pd.DataFrame()\n",
    "\n",
    "for i, (train_idx, val_idx) in enumerate(splits):\n",
    "    train_data = lgb.Dataset(data = x_train[train_idx], \n",
    "                             label = y_train[train_idx], \n",
    "                             feature_name = feature_names, \n",
    "                             categorical_feature = categorical_feature)\n",
    "    val_data = lgb.Dataset(data = x_train[val_idx], \n",
    "                           label = y_train[val_idx],\n",
    "                           feature_name = feature_names, \n",
    "                           categorical_feature = categorical_feature, reference = train_data)\n",
    "    \n",
    "    num_round = 10000\n",
    "    clf = lgb.train(param, \n",
    "                    train_data, \n",
    "                    num_round, \n",
    "                    valid_sets = [val_data], \n",
    "                    verbose_eval=100,\n",
    "                    early_stopping_rounds = 100)        \n",
    "    \n",
    "    y_pred = clf.predict(data = X_test[feature_names],num_iteration = clf.best_iteration)\n",
    "    train_pred[val_idx] = clf.predict(data = x_train[val_idx], num_iteration = clf.best_iteration)\n",
    "#     all_auc.append(clf.best_score['valid_0']['auc'])\n",
    "    all_preds.append(y_pred)          \n",
    "    \n",
    "    fold_importance_df = pd.DataFrame()\n",
    "    fold_importance_df[\"Feature\"] = feature_names\n",
    "    fold_importance_df[\"importance\"] = clf.feature_importance()\n",
    "    fold_importance_df[\"fold\"] = i + 1\n",
    "    feature_importance_df = pd.concat([feature_importance_df, fold_importance_df], axis=0)"
   ]
  },
  {
   "cell_type": "code",
   "execution_count": 46,
   "metadata": {
    "ExecuteTime": {
     "end_time": "2019-07-07T14:06:33.108743Z",
     "start_time": "2019-07-07T14:06:33.090865Z"
    }
   },
   "outputs": [
    {
     "data": {
      "text/plain": [
       "0.9415428240533024"
      ]
     },
     "execution_count": 46,
     "metadata": {},
     "output_type": "execute_result"
    }
   ],
   "source": [
    "roc_auc_score(y_train, train_pred)"
   ]
  },
  {
   "cell_type": "code",
   "execution_count": 47,
   "metadata": {
    "ExecuteTime": {
     "end_time": "2019-07-07T14:06:37.192582Z",
     "start_time": "2019-07-07T14:06:37.189237Z"
    }
   },
   "outputs": [],
   "source": [
    "y_pred = np.mean(all_preds, axis=0)"
   ]
  },
  {
   "cell_type": "code",
   "execution_count": 49,
   "metadata": {
    "ExecuteTime": {
     "end_time": "2019-07-07T14:07:41.197406Z",
     "start_time": "2019-07-07T14:07:41.133320Z"
    }
   },
   "outputs": [],
   "source": [
    "submissons = pd.DataFrame({'ID': X_test['ID'], 'pred': y_pred})\n",
    "submissons.to_csv('submissons.csv', index=False)"
   ]
  },
  {
   "cell_type": "code",
   "execution_count": 50,
   "metadata": {
    "ExecuteTime": {
     "end_time": "2019-07-07T14:07:41.957486Z",
     "start_time": "2019-07-07T14:07:41.950604Z"
    }
   },
   "outputs": [
    {
     "data": {
      "text/html": [
       "<div>\n",
       "<style scoped>\n",
       "    .dataframe tbody tr th:only-of-type {\n",
       "        vertical-align: middle;\n",
       "    }\n",
       "\n",
       "    .dataframe tbody tr th {\n",
       "        vertical-align: top;\n",
       "    }\n",
       "\n",
       "    .dataframe thead th {\n",
       "        text-align: right;\n",
       "    }\n",
       "</style>\n",
       "<table border=\"1\" class=\"dataframe\">\n",
       "  <thead>\n",
       "    <tr style=\"text-align: right;\">\n",
       "      <th></th>\n",
       "      <th>ID</th>\n",
       "      <th>pred</th>\n",
       "    </tr>\n",
       "  </thead>\n",
       "  <tbody>\n",
       "    <tr>\n",
       "      <th>25317</th>\n",
       "      <td>25318</td>\n",
       "      <td>0.035928</td>\n",
       "    </tr>\n",
       "    <tr>\n",
       "      <th>25318</th>\n",
       "      <td>25319</td>\n",
       "      <td>0.003244</td>\n",
       "    </tr>\n",
       "    <tr>\n",
       "      <th>25319</th>\n",
       "      <td>25320</td>\n",
       "      <td>0.007789</td>\n",
       "    </tr>\n",
       "    <tr>\n",
       "      <th>25320</th>\n",
       "      <td>25321</td>\n",
       "      <td>0.708188</td>\n",
       "    </tr>\n",
       "    <tr>\n",
       "      <th>25321</th>\n",
       "      <td>25322</td>\n",
       "      <td>0.023458</td>\n",
       "    </tr>\n",
       "  </tbody>\n",
       "</table>\n",
       "</div>"
      ],
      "text/plain": [
       "          ID      pred\n",
       "25317  25318  0.035928\n",
       "25318  25319  0.003244\n",
       "25319  25320  0.007789\n",
       "25320  25321  0.708188\n",
       "25321  25322  0.023458"
      ]
     },
     "execution_count": 50,
     "metadata": {},
     "output_type": "execute_result"
    }
   ],
   "source": [
    "submissons.head()"
   ]
  },
  {
   "cell_type": "code",
   "execution_count": 51,
   "metadata": {
    "ExecuteTime": {
     "end_time": "2019-07-07T14:07:48.110969Z",
     "start_time": "2019-07-07T14:07:45.231636Z"
    }
   },
   "outputs": [
    {
     "data": {
      "image/png": "[encoded data removed]",
      "text/plain": [
       "<Figure size 1008x1800 with 1 Axes>"
      ]
     },
     "metadata": {
      "needs_background": "light"
     },
     "output_type": "display_data"
    }
   ],
   "source": [
    "cols = (feature_importance_df[[\"Feature\", \"importance\"]]\n",
    "        .groupby(\"Feature\")\n",
    "        .mean()\n",
    "        .sort_values(by=\"importance\", ascending=False)[:200].index)\n",
    "\n",
    "best_features = feature_importance_df.loc[feature_importance_df.Feature.isin(cols)]\n",
    "\n",
    "plt.figure(figsize=(14,25))\n",
    "sns.barplot(x = \"importance\",\n",
    "            y = \"Feature\",\n",
    "            data = best_features.sort_values(by=\"importance\", ascending=False))\n",
    "plt.title('LightGBM Features (avg over folds)')\n",
    "plt.tight_layout()"
   ]
  },
  {
   "cell_type": "code",
   "execution_count": null,
   "metadata": {},
   "outputs": [],
   "source": []
  }
 ],
 "metadata": {
  "hide_input": false,
  "kernelspec": {
   "display_name": "Python 3",
   "language": "python",
   "name": "python3"
  },
  "language_info": {
   "codemirror_mode": {
    "name": "ipython",
    "version": 3
   },
   "file_extension": ".py",
   "mimetype": "text/x-python",
   "name": "python",
   "nbconvert_exporter": "python",
   "pygments_lexer": "ipython3",
   "version": "3.6.7"
  },
  "toc": {
   "base_numbering": 1,
   "nav_menu": {},
   "number_sections": true,
   "sideBar": true,
   "skip_h1_title": false,
   "title_cell": "Table of Contents",
   "title_sidebar": "Contents",
   "toc_cell": false,
   "toc_position": {},
   "toc_section_display": true,
   "toc_window_display": false
  }
 },
 "nbformat": 4,
 "nbformat_minor": 2
}
