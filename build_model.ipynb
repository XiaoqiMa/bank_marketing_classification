{
 "cells": [
  {
   "cell_type": "code",
   "execution_count": 2,
   "metadata": {
    "ExecuteTime": {
     "end_time": "2019-06-25T19:30:06.509780Z",
     "start_time": "2019-06-25T19:30:06.499781Z"
    }
   },
   "outputs": [],
   "source": [
    "import pandas as pd\n",
    "import numpy as np\n",
    "import lightgbm as lgb\n",
    "from sklearn.model_selection import train_test_split\n",
    "from sklearn.metrics import roc_auc_score\n",
    "from sklearn.preprocessing import scale\n",
    "\n",
    "from sklearn.ensemble import RandomForestRegressor, GradientBoostingClassifier, GradientBoostingRegressor\n",
    "from sklearn.svm import SVR\n",
    "import lightgbm as lgb\n",
    "from lightgbm import LGBMRegressor\n",
    "\n",
    "from sklearn.linear_model import LogisticRegression\n",
    "from sklearn.neighbors import KNeighborsClassifier\n",
    "from sklearn.naive_bayes import GaussianNB \n",
    "from sklearn.ensemble import RandomForestClassifier\n",
    "from mlxtend.classifier import StackingCVClassifier\n",
    "\n",
    "# Misc\n",
    "from sklearn.model_selection import KFold\n",
    "from sklearn.pipeline import make_pipeline\n",
    "from sklearn.preprocessing import scale\n",
    "from sklearn.preprocessing import RobustScaler"
   ]
  },
  {
   "cell_type": "code",
   "execution_count": 3,
   "metadata": {
    "ExecuteTime": {
     "end_time": "2019-06-25T19:30:07.084499Z",
     "start_time": "2019-06-25T19:30:06.974211Z"
    }
   },
   "outputs": [],
   "source": [
    "train_file = 'train_set.csv'\n",
    "test_file = 'test_set.csv'\n",
    "\n",
    "data = pd.read_csv(train_file)\n",
    "train_x, train_y = data.drop(['ID', 'y'], axis=1), data['y']\n",
    "test_x = pd.read_csv(test_file)"
   ]
  },
  {
   "cell_type": "code",
   "execution_count": 4,
   "metadata": {
    "ExecuteTime": {
     "end_time": "2019-06-25T19:30:12.707228Z",
     "start_time": "2019-06-25T19:30:12.699938Z"
    }
   },
   "outputs": [],
   "source": [
    "def label_encoding(df_data):\n",
    "    try:\n",
    "        data = df_data.copy()\n",
    "        cat_cols = data.select_dtypes(['category']).columns\n",
    "        if len(cat_cols) == 0:\n",
    "            cat_cols = data.select_dtypes(exclude=['number']).columns\n",
    "            data[cat_cols] = data[cat_cols].astype('category')\n",
    "        data[cat_cols] = data[cat_cols].apply(lambda x: x.cat.codes)\n",
    "        return data\n",
    "    except:\n",
    "        raise Exception('Label encoding error')\n",
    "\n",
    "def onehot_encoding(df_data):\n",
    "    data = df_data.copy()\n",
    "    return pd.get_dummies(data)"
   ]
  },
  {
   "cell_type": "code",
   "execution_count": 5,
   "metadata": {
    "ExecuteTime": {
     "end_time": "2019-06-25T19:30:14.305048Z",
     "start_time": "2019-06-25T19:30:14.233576Z"
    }
   },
   "outputs": [],
   "source": [
    "df_train_x = label_encoding(train_x)\n",
    "x_train, x_test, y_train, y_test = train_test_split(df_train_x, train_y, test_size=0.75, random_state=42)"
   ]
  },
  {
   "cell_type": "code",
   "execution_count": 7,
   "metadata": {
    "ExecuteTime": {
     "end_time": "2019-06-25T19:30:35.453183Z",
     "start_time": "2019-06-25T19:30:35.442480Z"
    }
   },
   "outputs": [],
   "source": [
    "# Support Vector Regressor\n",
    "# svr = make_pipeline(RobustScaler(), SVR(C= 20, epsilon= 0.008, gamma=0.0003))\n",
    "\n",
    "# Random Forest Regressor\n",
    "rf = RandomForestRegressor(n_estimators=500,\n",
    "                          max_depth=15,\n",
    "                          min_samples_split=5,\n",
    "                          min_samples_leaf=5,\n",
    "                          max_features=None,\n",
    "                          oob_score=True,\n",
    "                          random_state=42)\n",
    "\n",
    "lightgbm = LGBMRegressor(max_bin=512,\n",
    "                         learning_rate=0.01,\n",
    "                         n_estimators=6000,\n",
    "                         boosting_type=\"gbdt\",\n",
    "                         objective=\"binary\",\n",
    "                         metric=\"binary_logloss\",\n",
    "                         num_leaves=10,\n",
    "                         verbose= -1,\n",
    "                         min_data=100,\n",
    "                         bagging_fraction=0.8,\n",
    "                         bagging_freq=4, \n",
    "                         bagging_seed=8,\n",
    "                         feature_fraction=0.2,\n",
    "                         feature_fraction_seed=8,\n",
    "                         boost_from_average=True,\n",
    "                         random_state=42)\n",
    "\n",
    "\n",
    "# Stack up all the models above, optimized using xgboost\n",
    "stack_gen = StackingCVClassifier(classifiers=(rf, lightgbm),\n",
    "                                meta_classifier=lightgbm)"
   ]
  },
  {
   "cell_type": "code",
   "execution_count": 8,
   "metadata": {
    "ExecuteTime": {
     "end_time": "2019-06-25T19:31:12.246044Z",
     "start_time": "2019-06-25T19:30:38.666112Z"
    }
   },
   "outputs": [],
   "source": [
    "# svr_model = svr.fit(x_train, y_train)\n",
    "rf_model = rf.fit(x_train, y_train)\n",
    "lightgbm_model = lightgbm.fit(x_train, y_train)\n",
    "stack_gen_model = stack_gen.fit(x_train, y_train)"
   ]
  },
  {
   "cell_type": "code",
   "execution_count": 9,
   "metadata": {
    "ExecuteTime": {
     "end_time": "2019-06-25T19:31:16.872214Z",
     "start_time": "2019-06-25T19:31:12.247943Z"
    }
   },
   "outputs": [],
   "source": [
    "# svr_score = roc_auc_score(y_test, svr_model.predict(x_test))\n",
    "rf_score = roc_auc_score(y_test, rf_model.predict(x_test))\n",
    "lightgbm_score = roc_auc_score(y_test, lightgbm_model.predict(x_test))\n",
    "stack_score = roc_auc_score(y_test, stack_gen_model.predict(x_test))"
   ]
  },
  {
   "cell_type": "code",
   "execution_count": 10,
   "metadata": {
    "ExecuteTime": {
     "end_time": "2019-06-25T19:31:16.903448Z",
     "start_time": "2019-06-25T19:31:16.874237Z"
    }
   },
   "outputs": [
    {
     "data": {
      "text/html": [
       "<div>\n",
       "<style scoped>\n",
       "    .dataframe tbody tr th:only-of-type {\n",
       "        vertical-align: middle;\n",
       "    }\n",
       "\n",
       "    .dataframe tbody tr th {\n",
       "        vertical-align: top;\n",
       "    }\n",
       "\n",
       "    .dataframe thead th {\n",
       "        text-align: right;\n",
       "    }\n",
       "</style>\n",
       "<table border=\"1\" class=\"dataframe\">\n",
       "  <thead>\n",
       "    <tr style=\"text-align: right;\">\n",
       "      <th></th>\n",
       "      <th>auc_score</th>\n",
       "      <th>weight</th>\n",
       "    </tr>\n",
       "  </thead>\n",
       "  <tbody>\n",
       "    <tr>\n",
       "      <th>rf</th>\n",
       "      <td>0.919170</td>\n",
       "      <td>0.336839</td>\n",
       "    </tr>\n",
       "    <tr>\n",
       "      <th>lightgbm</th>\n",
       "      <td>0.901612</td>\n",
       "      <td>0.330405</td>\n",
       "    </tr>\n",
       "    <tr>\n",
       "      <th>stack</th>\n",
       "      <td>0.908027</td>\n",
       "      <td>0.332756</td>\n",
       "    </tr>\n",
       "  </tbody>\n",
       "</table>\n",
       "</div>"
      ],
      "text/plain": [
       "          auc_score    weight\n",
       "rf         0.919170  0.336839\n",
       "lightgbm   0.901612  0.330405\n",
       "stack      0.908027  0.332756"
      ]
     },
     "execution_count": 10,
     "metadata": {},
     "output_type": "execute_result"
    }
   ],
   "source": [
    "df_score = pd.DataFrame({\n",
    "#                 'svr':svr_score, \n",
    "                'rf': rf_score,\n",
    "                'lightgbm': lightgbm_score, \n",
    "                'stack': stack_score}, \n",
    "                index=['auc_score']).transpose()\n",
    "\n",
    "df_score_weight = df_score.copy()\n",
    "df_score_weight['weight'] = df_score['auc_score'] / np.sum(df_score['auc_score'])\n",
    "df_score_weight"
   ]
  },
  {
   "cell_type": "code",
   "execution_count": 11,
   "metadata": {
    "ExecuteTime": {
     "end_time": "2019-06-25T19:31:27.149874Z",
     "start_time": "2019-06-25T19:31:27.146240Z"
    }
   },
   "outputs": [],
   "source": [
    "# Blend models in order to make the final predictions more robust to overfitting\n",
    "def blended_predictions(weights, X):\n",
    "    return ((weights[0] * rf_model.predict(X)) + \\\n",
    "            (weights[1] * lightgbm_model.predict(X)) + \\\n",
    "            (weights[2] * stack_gen_model.predict(X)) \n",
    "           )"
   ]
  },
  {
   "cell_type": "code",
   "execution_count": 12,
   "metadata": {
    "ExecuteTime": {
     "end_time": "2019-06-25T19:31:31.025106Z",
     "start_time": "2019-06-25T19:31:28.275730Z"
    }
   },
   "outputs": [],
   "source": [
    "X = label_encoding(test_x.drop('ID', axis=1))\n",
    "y_prediction = blended_predictions(df_score_weight['weight'].values, X)"
   ]
  },
  {
   "cell_type": "code",
   "execution_count": 13,
   "metadata": {
    "ExecuteTime": {
     "end_time": "2019-06-25T19:31:42.902621Z",
     "start_time": "2019-06-25T19:31:42.890213Z"
    }
   },
   "outputs": [],
   "source": [
    "id_value = test_x['ID']\n",
    "data_tuples = list(zip(id_value, y_prediction))\n",
    "df_output = pd.DataFrame(data_tuples, columns=['ID', 'pred'])"
   ]
  },
  {
   "cell_type": "code",
   "execution_count": 14,
   "metadata": {
    "ExecuteTime": {
     "end_time": "2019-06-25T19:31:48.462357Z",
     "start_time": "2019-06-25T19:31:48.455190Z"
    }
   },
   "outputs": [
    {
     "data": {
      "text/html": [
       "<div>\n",
       "<style scoped>\n",
       "    .dataframe tbody tr th:only-of-type {\n",
       "        vertical-align: middle;\n",
       "    }\n",
       "\n",
       "    .dataframe tbody tr th {\n",
       "        vertical-align: top;\n",
       "    }\n",
       "\n",
       "    .dataframe thead th {\n",
       "        text-align: right;\n",
       "    }\n",
       "</style>\n",
       "<table border=\"1\" class=\"dataframe\">\n",
       "  <thead>\n",
       "    <tr style=\"text-align: right;\">\n",
       "      <th></th>\n",
       "      <th>ID</th>\n",
       "      <th>pred</th>\n",
       "    </tr>\n",
       "  </thead>\n",
       "  <tbody>\n",
       "    <tr>\n",
       "      <th>0</th>\n",
       "      <td>25318</td>\n",
       "      <td>0.060961</td>\n",
       "    </tr>\n",
       "    <tr>\n",
       "      <th>1</th>\n",
       "      <td>25319</td>\n",
       "      <td>0.006117</td>\n",
       "    </tr>\n",
       "    <tr>\n",
       "      <th>2</th>\n",
       "      <td>25320</td>\n",
       "      <td>0.005795</td>\n",
       "    </tr>\n",
       "    <tr>\n",
       "      <th>3</th>\n",
       "      <td>25321</td>\n",
       "      <td>0.724066</td>\n",
       "    </tr>\n",
       "    <tr>\n",
       "      <th>4</th>\n",
       "      <td>25322</td>\n",
       "      <td>0.029099</td>\n",
       "    </tr>\n",
       "  </tbody>\n",
       "</table>\n",
       "</div>"
      ],
      "text/plain": [
       "      ID      pred\n",
       "0  25318  0.060961\n",
       "1  25319  0.006117\n",
       "2  25320  0.005795\n",
       "3  25321  0.724066\n",
       "4  25322  0.029099"
      ]
     },
     "execution_count": 14,
     "metadata": {},
     "output_type": "execute_result"
    }
   ],
   "source": [
    "df_output.head()"
   ]
  },
  {
   "cell_type": "code",
   "execution_count": 16,
   "metadata": {
    "ExecuteTime": {
     "end_time": "2019-06-25T19:32:53.993573Z",
     "start_time": "2019-06-25T19:32:53.929641Z"
    }
   },
   "outputs": [],
   "source": [
    "df_output.to_csv('result.csv')"
   ]
  },
  {
   "cell_type": "code",
   "execution_count": null,
   "metadata": {},
   "outputs": [],
   "source": []
  }
 ],
 "metadata": {
  "hide_input": false,
  "kernelspec": {
   "display_name": "Python 3",
   "language": "python",
   "name": "python3"
  },
  "language_info": {
   "codemirror_mode": {
    "name": "ipython",
    "version": 3
   },
   "file_extension": ".py",
   "mimetype": "text/x-python",
   "name": "python",
   "nbconvert_exporter": "python",
   "pygments_lexer": "ipython3",
   "version": "3.6.7"
  },
  "toc": {
   "base_numbering": 1,
   "nav_menu": {},
   "number_sections": true,
   "sideBar": true,
   "skip_h1_title": false,
   "title_cell": "Table of Contents",
   "title_sidebar": "Contents",
   "toc_cell": false,
   "toc_position": {},
   "toc_section_display": true,
   "toc_window_display": false
  }
 },
 "nbformat": 4,
 "nbformat_minor": 2
}
