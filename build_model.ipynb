{
 "cells": [
  {
   "cell_type": "code",
   "execution_count": null,
   "metadata": {
    "ExecuteTime": {
     "end_time": "2019-06-26T10:50:29.097847Z",
     "start_time": "2019-06-26T10:50:29.088823Z"
    }
   },
   "outputs": [],
   "source": [
    "import pandas as pd\n",
    "import numpy as np\n",
    "import lightgbm as lgb\n",
    "from lightgbm import LGBMRegressor\n",
    "from mlxtend.regressor import StackingCVRegressor\n",
    "from mlxtend.classifier import StackingCVClassifier\n",
    "\n",
    "# sklearn\n",
    "from sklearn.ensemble import RandomForestRegressor, GradientBoostingClassifier, GradientBoostingRegressor\n",
    "from sklearn.ensemble import RandomForestClassifier\n",
    "from sklearn.svm import SVR\n",
    "from sklearn.linear_model import LogisticRegression\n",
    "from sklearn.neighbors import KNeighborsClassifier\n",
    "from sklearn.naive_bayes import GaussianNB \n",
    "from sklearn.pipeline import make_pipeline\n",
    "from sklearn.preprocessing import RobustScaler, scale\n",
    "from sklearn.model_selection import train_test_split, KFold, cross_val_score\n",
    "from sklearn.metrics import roc_auc_score"
   ]
  },
  {
   "cell_type": "code",
   "execution_count": null,
   "metadata": {
    "ExecuteTime": {
     "end_time": "2019-06-26T10:50:30.118841Z",
     "start_time": "2019-06-26T10:50:30.007793Z"
    }
   },
   "outputs": [],
   "source": [
    "train_file = 'train_set.csv'\n",
    "test_file = 'test_set.csv'\n",
    "\n",
    "data = pd.read_csv(train_file)\n",
    "train_x, train_y = data.drop(['ID', 'y'], axis=1), data['y']\n",
    "test_x = pd.read_csv(test_file)"
   ]
  },
  {
   "cell_type": "code",
   "execution_count": null,
   "metadata": {
    "ExecuteTime": {
     "end_time": "2019-06-26T10:50:32.911784Z",
     "start_time": "2019-06-26T10:50:32.903555Z"
    }
   },
   "outputs": [],
   "source": [
    "def label_encoding(df_data, is_scale=False):\n",
    "    try:\n",
    "        data = df_data.copy()\n",
    "        cat_cols = data.select_dtypes(['category']).columns\n",
    "        if len(cat_cols) == 0:\n",
    "            cat_cols = data.select_dtypes(exclude=['number']).columns\n",
    "            data[cat_cols] = data[cat_cols].astype('category')\n",
    "        data[cat_cols] = data[cat_cols].apply(lambda x: x.cat.codes)\n",
    "        if is_scale:\n",
    "            # standarizing \n",
    "            data = scale(data)\n",
    "        return data\n",
    "    except:\n",
    "        raise Exception('Label encoding error')\n",
    "\n",
    "def onehot_encoding(df_data):\n",
    "    data = df_data.copy()\n",
    "    return pd.get_dummies(data)"
   ]
  },
  {
   "cell_type": "code",
   "execution_count": null,
   "metadata": {
    "ExecuteTime": {
     "end_time": "2019-06-26T10:50:34.726220Z",
     "start_time": "2019-06-26T10:50:34.716785Z"
    }
   },
   "outputs": [],
   "source": [
    "# setup model types\n",
    "\n",
    "# Random Forest Regressor\n",
    "rf = RandomForestRegressor(n_estimators=1000,\n",
    "                          max_depth=15,\n",
    "                          min_samples_split=5,\n",
    "                          min_samples_leaf=5,\n",
    "                          max_features=None,\n",
    "                          oob_score=True,\n",
    "                          random_state=42)\n",
    "\n",
    "lightgbm = LGBMRegressor(max_bin=512,\n",
    "                         learning_rate=0.01,\n",
    "                         n_estimators=6000,\n",
    "                         boosting_type=\"gbdt\",\n",
    "                         objective=\"binary\",\n",
    "                         metric=\"binary_logloss\",\n",
    "                         num_leaves=10,\n",
    "                         verbose= -1,\n",
    "                         min_data=100,\n",
    "                         bagging_fraction=0.8,\n",
    "                         bagging_freq=4, \n",
    "                         bagging_seed=8,\n",
    "                         feature_fraction=0.2,\n",
    "                         feature_fraction_seed=8,\n",
    "                         boost_from_average=True,\n",
    "                         random_state=42)\n",
    "\n",
    "\n",
    "# Stack up all the models above, optimized using xgboost\n",
    "stack_gen = StackingCVRegressor(regressors=(rf, lightgbm),\n",
    "                                meta_regressor=rf)"
   ]
  },
  {
   "cell_type": "code",
   "execution_count": null,
   "metadata": {
    "ExecuteTime": {
     "end_time": "2019-06-26T10:50:36.114710Z",
     "start_time": "2019-06-26T10:50:36.022860Z"
    }
   },
   "outputs": [],
   "source": [
    "%time\n",
    "# training/testing split\n",
    "df_train_x = label_encoding(train_x, is_scale=True)\n",
    "x_train, x_test, y_train, y_test = train_test_split(df_train_x, train_y, test_size=0.75, random_state=42)"
   ]
  },
  {
   "cell_type": "code",
   "execution_count": null,
   "metadata": {
    "ExecuteTime": {
     "end_time": "2019-06-26T10:58:45.834234Z",
     "start_time": "2019-06-26T10:50:43.446279Z"
    }
   },
   "outputs": [],
   "source": [
    "%time\n",
    "# fit model\n",
    "rf_model = rf.fit(x_train, y_train)\n",
    "lightgbm_model = lightgbm.fit(x_train, y_train)\n",
    "stack_gen_model = stack_gen.fit(x_train, y_train)"
   ]
  },
  {
   "cell_type": "code",
   "execution_count": null,
   "metadata": {
    "ExecuteTime": {
     "end_time": "2019-06-26T10:59:02.913494Z",
     "start_time": "2019-06-26T10:58:45.836064Z"
    }
   },
   "outputs": [],
   "source": [
    "%time\n",
    "# auc score on each model\n",
    "rf_score = roc_auc_score(y_test, rf_model.predict(x_test))\n",
    "lightgbm_score = roc_auc_score(y_test, lightgbm_model.predict(x_test))\n",
    "stack_score = roc_auc_score(y_test, stack_gen_model.predict(x_test))"
   ]
  },
  {
   "cell_type": "code",
   "execution_count": null,
   "metadata": {
    "ExecuteTime": {
     "start_time": "2019-06-26T10:50:57.478Z"
    }
   },
   "outputs": [],
   "source": [
    "%time\n",
    "# cross validation score\n",
    "kf = KFold(n_splits=10, random_state=42, shuffle=True)\n",
    "rf_cross_score = np.mean(cross_val_score(rf, x_train, y_train, cv=kf, scoring='roc_auc'))\n",
    "lightgbm_cross_score = np.mean(cross_val_score(lightgbm, x_train, y_train, cv=kf, scoring='roc_auc'))\n",
    "stack_cross_score = np.mean(cross_val_score(stack_gen, x_train, y_train, cv=kf, scoring='roc_auc'))"
   ]
  },
  {
   "cell_type": "code",
   "execution_count": null,
   "metadata": {
    "ExecuteTime": {
     "start_time": "2019-06-26T10:51:27.565Z"
    }
   },
   "outputs": [],
   "source": [
    "df_score = pd.DataFrame({\n",
    "                'rf': rf_score,\n",
    "                'lightgbm': lightgbm_score, \n",
    "                'stack': stack_score}, \n",
    "                index=['auc_score']).transpose()\n",
    "\n",
    "df_score_weight = df_score.copy()\n",
    "df_score_weight['auc_weight'] = df_score['auc_score'] / np.sum(df_score['auc_score'])\n",
    "cv_scores = np.array([rf_cross_score, lightgbm_cross_score, stack_cross_score])\n",
    "df_score_weight['cv_weight'] = cv_scores / np.sum(cv_scores)\n",
    "df_score_weight['total_weight'] = 0.5 * (df_score_weight['auc_weight'] + df_score_weight['cv_weight'])\n",
    "df_score_weight"
   ]
  },
  {
   "cell_type": "code",
   "execution_count": null,
   "metadata": {
    "ExecuteTime": {
     "start_time": "2019-06-26T10:51:38.524Z"
    }
   },
   "outputs": [],
   "source": [
    "# Blend models in order to make the final predictions more robust to overfitting\n",
    "def blended_predictions(weights, X):\n",
    "    return ((weights[0] * rf_model.predict(X)) + \\\n",
    "            (weights[1] * lightgbm_model.predict(X)) + \\\n",
    "            (weights[2] * stack_gen_model.predict(X)) \n",
    "           )"
   ]
  },
  {
   "cell_type": "code",
   "execution_count": null,
   "metadata": {
    "ExecuteTime": {
     "start_time": "2019-06-26T10:52:16.729Z"
    }
   },
   "outputs": [],
   "source": [
    "X = label_encoding(test_x.drop('ID', axis=1), is_scale=True)\n",
    "y_prediction = blended_predictions(df_score_weight['total_weight'].values, X)"
   ]
  },
  {
   "cell_type": "code",
   "execution_count": null,
   "metadata": {
    "ExecuteTime": {
     "start_time": "2019-06-26T10:52:17.108Z"
    }
   },
   "outputs": [],
   "source": [
    "id_value = test_x['ID']\n",
    "data_tuples = list(zip(id_value, y_prediction))\n",
    "df_output = pd.DataFrame(data_tuples, columns=['ID', 'pred'])"
   ]
  },
  {
   "cell_type": "code",
   "execution_count": null,
   "metadata": {
    "ExecuteTime": {
     "start_time": "2019-06-26T10:52:17.654Z"
    }
   },
   "outputs": [],
   "source": [
    "df_output.head()"
   ]
  },
  {
   "cell_type": "code",
   "execution_count": null,
   "metadata": {
    "ExecuteTime": {
     "end_time": "2019-06-25T19:32:53.993573Z",
     "start_time": "2019-06-25T19:32:53.929641Z"
    }
   },
   "outputs": [],
   "source": [
    "df_output.to_csv('result_2.csv')"
   ]
  },
  {
   "cell_type": "code",
   "execution_count": null,
   "metadata": {},
   "outputs": [],
   "source": []
  }
 ],
 "metadata": {
  "hide_input": false,
  "kernelspec": {
   "display_name": "Python 3",
   "language": "python",
   "name": "python3"
  },
  "language_info": {
   "codemirror_mode": {
    "name": "ipython",
    "version": 3
   },
   "file_extension": ".py",
   "mimetype": "text/x-python",
   "name": "python",
   "nbconvert_exporter": "python",
   "pygments_lexer": "ipython3",
   "version": "3.6.7"
  },
  "toc": {
   "base_numbering": 1,
   "nav_menu": {},
   "number_sections": true,
   "sideBar": true,
   "skip_h1_title": false,
   "title_cell": "Table of Contents",
   "title_sidebar": "Contents",
   "toc_cell": false,
   "toc_position": {},
   "toc_section_display": true,
   "toc_window_display": false
  }
 },
 "nbformat": 4,
 "nbformat_minor": 2
}
