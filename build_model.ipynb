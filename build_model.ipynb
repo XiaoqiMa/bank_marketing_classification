{
 "cells": [
  {
   "cell_type": "code",
   "execution_count": 5,
   "metadata": {
    "ExecuteTime": {
     "end_time": "2019-06-26T10:50:29.097847Z",
     "start_time": "2019-06-26T10:50:29.088823Z"
    }
   },
   "outputs": [],
   "source": [
    "import time\n",
    "import pandas as pd\n",
    "import numpy as np\n",
    "import lightgbm as lgb\n",
    "from lightgbm import LGBMRegressor\n",
    "from mlxtend.regressor import StackingCVRegressor\n",
    "from mlxtend.classifier import StackingCVClassifier\n",
    "\n",
    "# sklearn\n",
    "from sklearn.ensemble import RandomForestRegressor, GradientBoostingClassifier, GradientBoostingRegressor\n",
    "from sklearn.ensemble import RandomForestClassifier\n",
    "from sklearn.svm import SVR\n",
    "from sklearn.linear_model import LogisticRegression\n",
    "from sklearn.neighbors import KNeighborsClassifier\n",
    "from sklearn.naive_bayes import GaussianNB \n",
    "from sklearn.pipeline import make_pipeline\n",
    "from sklearn.preprocessing import RobustScaler, scale\n",
    "from sklearn.model_selection import train_test_split, KFold, cross_val_score\n",
    "from sklearn.metrics import roc_auc_score"
   ]
  },
  {
   "cell_type": "code",
   "execution_count": 2,
   "metadata": {
    "ExecuteTime": {
     "end_time": "2019-06-26T10:50:30.118841Z",
     "start_time": "2019-06-26T10:50:30.007793Z"
    }
   },
   "outputs": [],
   "source": [
    "train_file = 'train_set.csv'\n",
    "test_file = 'test_set.csv'\n",
    "\n",
    "data = pd.read_csv(train_file)\n",
    "train_x, train_y = data.drop(['ID', 'y'], axis=1), data['y']\n",
    "test_x = pd.read_csv(test_file)"
   ]
  },
  {
   "cell_type": "code",
   "execution_count": 3,
   "metadata": {
    "ExecuteTime": {
     "end_time": "2019-06-26T10:50:32.911784Z",
     "start_time": "2019-06-26T10:50:32.903555Z"
    }
   },
   "outputs": [],
   "source": [
    "def label_encoding(df_data, is_scale=False):\n",
    "    try:\n",
    "        data = df_data.copy()\n",
    "        cat_cols = data.select_dtypes(['category']).columns\n",
    "        if len(cat_cols) == 0:\n",
    "            cat_cols = data.select_dtypes(exclude=['number']).columns\n",
    "            data[cat_cols] = data[cat_cols].astype('category')\n",
    "        data[cat_cols] = data[cat_cols].apply(lambda x: x.cat.codes)\n",
    "        if is_scale:\n",
    "            # standarizing \n",
    "            data = scale(data)\n",
    "        return data\n",
    "    except:\n",
    "        raise Exception('Label encoding error')\n",
    "\n",
    "def onehot_encoding(df_data):\n",
    "    data = df_data.copy()\n",
    "    return pd.get_dummies(data)"
   ]
  },
  {
   "cell_type": "code",
   "execution_count": 4,
   "metadata": {
    "ExecuteTime": {
     "end_time": "2019-06-26T10:50:34.726220Z",
     "start_time": "2019-06-26T10:50:34.716785Z"
    }
   },
   "outputs": [],
   "source": [
    "# setup model types\n",
    "\n",
    "# Random Forest Regressor\n",
    "rf = RandomForestRegressor(n_estimators=1000,\n",
    "                          max_depth=15,\n",
    "                          min_samples_split=5,\n",
    "                          min_samples_leaf=5,\n",
    "                          max_features=None,\n",
    "                          oob_score=True,\n",
    "                          random_state=42)\n",
    "\n",
    "lightgbm = LGBMRegressor(max_bin=512,\n",
    "                         learning_rate=0.01,\n",
    "                         n_estimators=6000,\n",
    "                         boosting_type=\"gbdt\",\n",
    "                         objective=\"binary\",\n",
    "                         metric=\"binary_logloss\",\n",
    "                         num_leaves=10,\n",
    "                         verbose= -1,\n",
    "                         min_data=100,\n",
    "                         bagging_fraction=0.8,\n",
    "                         bagging_freq=4, \n",
    "                         bagging_seed=8,\n",
    "                         feature_fraction=0.2,\n",
    "                         feature_fraction_seed=8,\n",
    "                         boost_from_average=True,\n",
    "                         random_state=42)\n",
    "\n",
    "\n",
    "# Stack up all the models above, optimized using xgboost\n",
    "stack_gen = StackingCVRegressor(regressors=(rf, lightgbm),\n",
    "                                meta_regressor=rf)"
   ]
  },
  {
   "cell_type": "code",
   "execution_count": 6,
   "metadata": {
    "ExecuteTime": {
     "end_time": "2019-06-26T10:50:36.114710Z",
     "start_time": "2019-06-26T10:50:36.022860Z"
    }
   },
   "outputs": [
    {
     "name": "stdout",
     "output_type": "stream",
     "text": [
      "running time: 68.05323204025626 ms\n"
     ]
    },
    {
     "name": "stderr",
     "output_type": "stream",
     "text": [
      "/home/xma/anaconda3/lib/python3.7/site-packages/ipykernel_launcher.py:11: DataConversionWarning: Data with input dtype int8, int64 were all converted to float64 by the scale function.\n",
      "  # This is added back by InteractiveShellApp.init_path()\n"
     ]
    }
   ],
   "source": [
    "start_t = time.perf_counter()\n",
    "# training/testing split\n",
    "df_train_x = label_encoding(train_x, is_scale=True)\n",
    "x_train, x_test, y_train, y_test = train_test_split(df_train_x, train_y, test_size=0.75, random_state=42)\n",
    "end_t = time.perf_counter()\n",
    "print('running time: {} ms'.format((end_t-start_t)*1000) )"
   ]
  },
  {
   "cell_type": "code",
   "execution_count": 7,
   "metadata": {
    "ExecuteTime": {
     "end_time": "2019-06-26T10:58:45.834234Z",
     "start_time": "2019-06-26T10:50:43.446279Z"
    }
   },
   "outputs": [
    {
     "name": "stdout",
     "output_type": "stream",
     "text": [
      "running time: 78230.85947101936 ms\n"
     ]
    }
   ],
   "source": [
    "start_t = time.perf_counter()\n",
    "# fit model\n",
    "rf_model = rf.fit(x_train, y_train)\n",
    "lightgbm_model = lightgbm.fit(x_train, y_train)\n",
    "stack_gen_model = stack_gen.fit(x_train, y_train)\n",
    "end_t = time.perf_counter()\n",
    "print('running time: {} ms'.format((end_t-start_t)*1000) )"
   ]
  },
  {
   "cell_type": "code",
   "execution_count": 8,
   "metadata": {
    "ExecuteTime": {
     "end_time": "2019-06-26T10:59:02.913494Z",
     "start_time": "2019-06-26T10:58:45.836064Z"
    }
   },
   "outputs": [
    {
     "name": "stdout",
     "output_type": "stream",
     "text": [
      "running time: 3809.59408194758 ms\n"
     ]
    }
   ],
   "source": [
    "start_t = time.perf_counter()\n",
    "# auc score on each model\n",
    "rf_score = roc_auc_score(y_test, rf_model.predict(x_test))\n",
    "lightgbm_score = roc_auc_score(y_test, lightgbm_model.predict(x_test))\n",
    "stack_score = roc_auc_score(y_test, stack_gen_model.predict(x_test))\n",
    "end_t = time.perf_counter()\n",
    "print('running time: {} ms'.format((end_t-start_t)*1000) )"
   ]
  },
  {
   "cell_type": "code",
   "execution_count": 9,
   "metadata": {
    "ExecuteTime": {
     "start_time": "2019-06-26T10:50:57.478Z"
    }
   },
   "outputs": [
    {
     "name": "stdout",
     "output_type": "stream",
     "text": [
      "running time: 690803.9143639617 ms\n"
     ]
    }
   ],
   "source": [
    "start_t = time.perf_counter()\n",
    "# cross validation score\n",
    "kf = KFold(n_splits=10, random_state=42, shuffle=True)\n",
    "rf_cross_score = np.mean(cross_val_score(rf, x_train, y_train, cv=kf, scoring='roc_auc'))\n",
    "lightgbm_cross_score = np.mean(cross_val_score(lightgbm, x_train, y_train, cv=kf, scoring='roc_auc'))\n",
    "stack_cross_score = np.mean(cross_val_score(stack_gen, x_train, y_train, cv=kf, scoring='roc_auc'))\n",
    "end_t = time.perf_counter()\n",
    "print('running time: {} ms'.format((end_t-start_t)*1000) )"
   ]
  },
  {
   "cell_type": "code",
   "execution_count": 11,
   "metadata": {
    "ExecuteTime": {
     "start_time": "2019-06-26T10:51:27.565Z"
    }
   },
   "outputs": [
    {
     "data": {
      "text/html": [
       "<div>\n",
       "<style scoped>\n",
       "    .dataframe tbody tr th:only-of-type {\n",
       "        vertical-align: middle;\n",
       "    }\n",
       "\n",
       "    .dataframe tbody tr th {\n",
       "        vertical-align: top;\n",
       "    }\n",
       "\n",
       "    .dataframe thead th {\n",
       "        text-align: right;\n",
       "    }\n",
       "</style>\n",
       "<table border=\"1\" class=\"dataframe\">\n",
       "  <thead>\n",
       "    <tr style=\"text-align: right;\">\n",
       "      <th></th>\n",
       "      <th>auc_score</th>\n",
       "      <th>auc_weight</th>\n",
       "      <th>cv_weight</th>\n",
       "      <th>total_weight</th>\n",
       "    </tr>\n",
       "  </thead>\n",
       "  <tbody>\n",
       "    <tr>\n",
       "      <th>rf</th>\n",
       "      <td>0.919789</td>\n",
       "      <td>0.337173</td>\n",
       "      <td>0.335848</td>\n",
       "      <td>0.336511</td>\n",
       "    </tr>\n",
       "    <tr>\n",
       "      <th>lightgbm</th>\n",
       "      <td>0.902198</td>\n",
       "      <td>0.330725</td>\n",
       "      <td>0.333103</td>\n",
       "      <td>0.331914</td>\n",
       "    </tr>\n",
       "    <tr>\n",
       "      <th>stack</th>\n",
       "      <td>0.905956</td>\n",
       "      <td>0.332102</td>\n",
       "      <td>0.331049</td>\n",
       "      <td>0.331576</td>\n",
       "    </tr>\n",
       "  </tbody>\n",
       "</table>\n",
       "</div>"
      ],
      "text/plain": [
       "          auc_score  auc_weight  cv_weight  total_weight\n",
       "rf         0.919789    0.337173   0.335848      0.336511\n",
       "lightgbm   0.902198    0.330725   0.333103      0.331914\n",
       "stack      0.905956    0.332102   0.331049      0.331576"
      ]
     },
     "execution_count": 11,
     "metadata": {},
     "output_type": "execute_result"
    }
   ],
   "source": [
    "df_score = pd.DataFrame({\n",
    "                'rf': rf_score,\n",
    "                'lightgbm': lightgbm_score, \n",
    "                'stack': stack_score}, \n",
    "                index=['auc_score']).transpose()\n",
    "\n",
    "df_score_weight = df_score.copy()\n",
    "df_score_weight['auc_weight'] = df_score['auc_score'] / np.sum(df_score['auc_score'])\n",
    "cv_scores = np.array([rf_cross_score, lightgbm_cross_score, stack_cross_score])\n",
    "df_score_weight['cv_weight'] = cv_scores / np.sum(cv_scores)\n",
    "df_score_weight['total_weight'] = 0.5 * (df_score_weight['auc_weight'] + df_score_weight['cv_weight'])\n",
    "df_score_weight"
   ]
  },
  {
   "cell_type": "code",
   "execution_count": 12,
   "metadata": {
    "ExecuteTime": {
     "start_time": "2019-06-26T10:51:38.524Z"
    }
   },
   "outputs": [],
   "source": [
    "# Blend models in order to make the final predictions more robust to overfitting\n",
    "def blended_predictions(weights, X):\n",
    "    return ((weights[0] * rf_model.predict(X)) + \\\n",
    "            (weights[1] * lightgbm_model.predict(X)) + \\\n",
    "            (weights[2] * stack_gen_model.predict(X)) \n",
    "           )"
   ]
  },
  {
   "cell_type": "code",
   "execution_count": 18,
   "metadata": {
    "ExecuteTime": {
     "start_time": "2019-06-26T10:52:16.729Z"
    }
   },
   "outputs": [
    {
     "name": "stderr",
     "output_type": "stream",
     "text": [
      "/home/xma/anaconda3/lib/python3.7/site-packages/ipykernel_launcher.py:11: DataConversionWarning: Data with input dtype int8, int64 were all converted to float64 by the scale function.\n",
      "  # This is added back by InteractiveShellApp.init_path()\n"
     ]
    }
   ],
   "source": [
    "X = label_encoding(test_x.drop('ID', axis=1), is_scale=True)\n",
    "y_prediction = blended_predictions(df_score_weight['total_weight'].values, X)"
   ]
  },
  {
   "cell_type": "code",
   "execution_count": 19,
   "metadata": {
    "ExecuteTime": {
     "start_time": "2019-06-26T10:52:17.108Z"
    }
   },
   "outputs": [],
   "source": [
    "id_value = test_x['ID']\n",
    "data_tuples = list(zip(id_value, y_prediction))\n",
    "df_output = pd.DataFrame(data_tuples, columns=['ID', 'pred'])"
   ]
  },
  {
   "cell_type": "code",
   "execution_count": 23,
   "metadata": {
    "ExecuteTime": {
     "start_time": "2019-06-26T10:52:17.654Z"
    }
   },
   "outputs": [
    {
     "data": {
      "text/html": [
       "<div>\n",
       "<style scoped>\n",
       "    .dataframe tbody tr th:only-of-type {\n",
       "        vertical-align: middle;\n",
       "    }\n",
       "\n",
       "    .dataframe tbody tr th {\n",
       "        vertical-align: top;\n",
       "    }\n",
       "\n",
       "    .dataframe thead th {\n",
       "        text-align: right;\n",
       "    }\n",
       "</style>\n",
       "<table border=\"1\" class=\"dataframe\">\n",
       "  <thead>\n",
       "    <tr style=\"text-align: right;\">\n",
       "      <th></th>\n",
       "      <th>ID</th>\n",
       "      <th>pred</th>\n",
       "    </tr>\n",
       "  </thead>\n",
       "  <tbody>\n",
       "    <tr>\n",
       "      <th>0</th>\n",
       "      <td>25318</td>\n",
       "      <td>0.009446</td>\n",
       "    </tr>\n",
       "    <tr>\n",
       "      <th>1</th>\n",
       "      <td>25319</td>\n",
       "      <td>0.008684</td>\n",
       "    </tr>\n",
       "    <tr>\n",
       "      <th>2</th>\n",
       "      <td>25320</td>\n",
       "      <td>0.006400</td>\n",
       "    </tr>\n",
       "    <tr>\n",
       "      <th>3</th>\n",
       "      <td>25321</td>\n",
       "      <td>0.641019</td>\n",
       "    </tr>\n",
       "    <tr>\n",
       "      <th>4</th>\n",
       "      <td>25322</td>\n",
       "      <td>0.016958</td>\n",
       "    </tr>\n",
       "  </tbody>\n",
       "</table>\n",
       "</div>"
      ],
      "text/plain": [
       "      ID      pred\n",
       "0  25318  0.009446\n",
       "1  25319  0.008684\n",
       "2  25320  0.006400\n",
       "3  25321  0.641019\n",
       "4  25322  0.016958"
      ]
     },
     "execution_count": 23,
     "metadata": {},
     "output_type": "execute_result"
    }
   ],
   "source": [
    "df_output.head()"
   ]
  },
  {
   "cell_type": "code",
   "execution_count": 22,
   "metadata": {
    "ExecuteTime": {
     "end_time": "2019-06-25T19:32:53.993573Z",
     "start_time": "2019-06-25T19:32:53.929641Z"
    }
   },
   "outputs": [],
   "source": [
    "df_output.to_csv('result_2.csv')"
   ]
  },
  {
   "cell_type": "code",
   "execution_count": null,
   "metadata": {},
   "outputs": [],
   "source": []
  }
 ],
 "metadata": {
  "hide_input": false,
  "kernelspec": {
   "display_name": "Python 3",
   "language": "python",
   "name": "python3"
  },
  "language_info": {
   "codemirror_mode": {
    "name": "ipython",
    "version": 3
   },
   "file_extension": ".py",
   "mimetype": "text/x-python",
   "name": "python",
   "nbconvert_exporter": "python",
   "pygments_lexer": "ipython3",
   "version": "3.7.3"
  },
  "toc": {
   "base_numbering": 1,
   "nav_menu": {},
   "number_sections": true,
   "sideBar": true,
   "skip_h1_title": false,
   "title_cell": "Table of Contents",
   "title_sidebar": "Contents",
   "toc_cell": false,
   "toc_position": {},
   "toc_section_display": true,
   "toc_window_display": false
  }
 },
 "nbformat": 4,
 "nbformat_minor": 2
}
